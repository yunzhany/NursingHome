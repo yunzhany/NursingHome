{
 "cells": [
  {
   "cell_type": "markdown",
   "metadata": {},
   "source": [
    "# 0. Preparation (API call, data sorting & re-indexing)"
   ]
  },
  {
   "cell_type": "code",
   "execution_count": 52,
   "metadata": {
    "scrolled": true
   },
   "outputs": [
    {
     "name": "stderr",
     "output_type": "stream",
     "text": [
      "WARNING:root:Requests made without an app_token will be subject to strict throttling limits.\n"
     ]
    }
   ],
   "source": [
    "import pandas as pd\n",
    "from sodapy import Socrata\n",
    "\n",
    "client = Socrata(\"data.cms.gov\", None)\n",
    "\n",
    "# All results, returned as JSON from API / converted to Python list of dictionaries by sodapy.\n",
    "results = client.get(\"s2uc-8wxp\", limit=999999)\n",
    "\n",
    "# Convert to pandas DataFrame\n",
    "results_df = pd.DataFrame.from_records(results)"
   ]
  },
  {
   "cell_type": "code",
   "execution_count": 96,
   "metadata": {},
   "outputs": [],
   "source": [
    "# Assign the original data to a variable for future manipulation\n",
    "df = results_df"
   ]
  },
  {
   "cell_type": "code",
   "execution_count": 97,
   "metadata": {},
   "outputs": [],
   "source": [
    "# Extract NY state data\n",
    "df = df[df[\"provider_state\"] == \"NY\"]"
   ]
  },
  {
   "cell_type": "code",
   "execution_count": 98,
   "metadata": {
    "collapsed": true
   },
   "outputs": [
    {
     "name": "stderr",
     "output_type": "stream",
     "text": [
      "<ipython-input-98-dc4aee60a6a1>:2: SettingWithCopyWarning: \n",
      "A value is trying to be set on a copy of a slice from a DataFrame.\n",
      "Try using .loc[row_indexer,col_indexer] = value instead\n",
      "\n",
      "See the caveats in the documentation: https://pandas.pydata.org/pandas-docs/stable/user_guide/indexing.html#returning-a-view-versus-a-copy\n",
      "  df[\"week_ending\"] = df[\"week_ending\"].astype(\"datetime64\")\n"
     ]
    },
    {
     "data": {
      "text/html": [
       "<div>\n",
       "<style scoped>\n",
       "    .dataframe tbody tr th:only-of-type {\n",
       "        vertical-align: middle;\n",
       "    }\n",
       "\n",
       "    .dataframe tbody tr th {\n",
       "        vertical-align: top;\n",
       "    }\n",
       "\n",
       "    .dataframe thead th {\n",
       "        text-align: right;\n",
       "    }\n",
       "</style>\n",
       "<table border=\"1\" class=\"dataframe\">\n",
       "  <thead>\n",
       "    <tr style=\"text-align: right;\">\n",
       "      <th></th>\n",
       "      <th>week_ending</th>\n",
       "      <th>federal_provider_number</th>\n",
       "      <th>provider_name</th>\n",
       "      <th>provider_address</th>\n",
       "      <th>provider_city</th>\n",
       "      <th>provider_state</th>\n",
       "      <th>provider_zip_code</th>\n",
       "      <th>submitted_data</th>\n",
       "      <th>county</th>\n",
       "      <th>geolocation</th>\n",
       "      <th>...</th>\n",
       "      <th>has_facility_performed_staff_and_or_personnel_tests_since_last_report</th>\n",
       "      <th>tested_staff_and_or_personnel_with_new_signs_or_symptoms</th>\n",
       "      <th>tested_asymptomatic_staff_and_or_personnel_in_a_unit_or_section_after_a_new_case</th>\n",
       "      <th>tested_asymptomatic_staff_and_or_personnel_facility_wide_after_a_new_case</th>\n",
       "      <th>tested_asymptomatic_staff_and_or_personnel_without_known_exposure_as_surveillance</th>\n",
       "      <th>tested_another_subgroup_of_staff_and_or_personnel</th>\n",
       "      <th>number_of_ventilators_in</th>\n",
       "      <th>number_of_ventilators_in_1</th>\n",
       "      <th>any_current_supply_of</th>\n",
       "      <th>one_week_supply_of_ventilator</th>\n",
       "    </tr>\n",
       "  </thead>\n",
       "  <tbody>\n",
       "    <tr>\n",
       "      <th>137519</th>\n",
       "      <td>2020-05-24</td>\n",
       "      <td>335677</td>\n",
       "      <td>SHEEPSHEAD NURSING &amp; REHABILITATION CENTER</td>\n",
       "      <td>2840 KNAPP ST</td>\n",
       "      <td>BROOKLYN</td>\n",
       "      <td>NY</td>\n",
       "      <td>11235</td>\n",
       "      <td>Y</td>\n",
       "      <td>Kings</td>\n",
       "      <td>{'type': 'Point', 'coordinates': [-73.931321, ...</td>\n",
       "      <td>...</td>\n",
       "      <td>NaN</td>\n",
       "      <td>NaN</td>\n",
       "      <td>NaN</td>\n",
       "      <td>NaN</td>\n",
       "      <td>NaN</td>\n",
       "      <td>NaN</td>\n",
       "      <td>NaN</td>\n",
       "      <td>NaN</td>\n",
       "      <td>NaN</td>\n",
       "      <td>NaN</td>\n",
       "    </tr>\n",
       "    <tr>\n",
       "      <th>125278</th>\n",
       "      <td>2020-05-24</td>\n",
       "      <td>335098</td>\n",
       "      <td>FINGER LAKES HEALTH</td>\n",
       "      <td>196-198 NORTH STREET</td>\n",
       "      <td>GENEVA</td>\n",
       "      <td>NY</td>\n",
       "      <td>14456</td>\n",
       "      <td>Y</td>\n",
       "      <td>Ontario</td>\n",
       "      <td>{'type': 'Point', 'coordinates': [-76.987954, ...</td>\n",
       "      <td>...</td>\n",
       "      <td>NaN</td>\n",
       "      <td>NaN</td>\n",
       "      <td>NaN</td>\n",
       "      <td>NaN</td>\n",
       "      <td>NaN</td>\n",
       "      <td>NaN</td>\n",
       "      <td>NaN</td>\n",
       "      <td>NaN</td>\n",
       "      <td>NaN</td>\n",
       "      <td>NaN</td>\n",
       "    </tr>\n",
       "    <tr>\n",
       "      <th>122965</th>\n",
       "      <td>2020-05-24</td>\n",
       "      <td>335080</td>\n",
       "      <td>REGENCY EXTENDED CARE CENTER</td>\n",
       "      <td>65 ASHBURTON AVENUE</td>\n",
       "      <td>YONKERS</td>\n",
       "      <td>NY</td>\n",
       "      <td>10701</td>\n",
       "      <td>Y</td>\n",
       "      <td>Westchester</td>\n",
       "      <td>{'type': 'Point', 'coordinates': [-73.894891, ...</td>\n",
       "      <td>...</td>\n",
       "      <td>NaN</td>\n",
       "      <td>NaN</td>\n",
       "      <td>NaN</td>\n",
       "      <td>NaN</td>\n",
       "      <td>NaN</td>\n",
       "      <td>NaN</td>\n",
       "      <td>10</td>\n",
       "      <td>0</td>\n",
       "      <td>Y</td>\n",
       "      <td>Y</td>\n",
       "    </tr>\n",
       "    <tr>\n",
       "      <th>134809</th>\n",
       "      <td>2020-05-24</td>\n",
       "      <td>335820</td>\n",
       "      <td>REGAL HEIGHTS REHABILITATION AND HEALTH CARE CTR</td>\n",
       "      <td>70-05 35 AVENUE</td>\n",
       "      <td>JACKSON HEIGHTS</td>\n",
       "      <td>NY</td>\n",
       "      <td>11372</td>\n",
       "      <td>Y</td>\n",
       "      <td>Queens</td>\n",
       "      <td>{'type': 'Point', 'coordinates': [-73.895441, ...</td>\n",
       "      <td>...</td>\n",
       "      <td>NaN</td>\n",
       "      <td>NaN</td>\n",
       "      <td>NaN</td>\n",
       "      <td>NaN</td>\n",
       "      <td>NaN</td>\n",
       "      <td>NaN</td>\n",
       "      <td>NaN</td>\n",
       "      <td>NaN</td>\n",
       "      <td>NaN</td>\n",
       "      <td>NaN</td>\n",
       "    </tr>\n",
       "    <tr>\n",
       "      <th>142302</th>\n",
       "      <td>2020-05-24</td>\n",
       "      <td>335844</td>\n",
       "      <td>THE KNOLLS</td>\n",
       "      <td>55 GRASSLAND ROAD</td>\n",
       "      <td>VALHALLA</td>\n",
       "      <td>NY</td>\n",
       "      <td>10595</td>\n",
       "      <td>Y</td>\n",
       "      <td>Westchester</td>\n",
       "      <td>{'type': 'Point', 'coordinates': [-73.816524, ...</td>\n",
       "      <td>...</td>\n",
       "      <td>NaN</td>\n",
       "      <td>NaN</td>\n",
       "      <td>NaN</td>\n",
       "      <td>NaN</td>\n",
       "      <td>NaN</td>\n",
       "      <td>NaN</td>\n",
       "      <td>NaN</td>\n",
       "      <td>NaN</td>\n",
       "      <td>NaN</td>\n",
       "      <td>NaN</td>\n",
       "    </tr>\n",
       "    <tr>\n",
       "      <th>...</th>\n",
       "      <td>...</td>\n",
       "      <td>...</td>\n",
       "      <td>...</td>\n",
       "      <td>...</td>\n",
       "      <td>...</td>\n",
       "      <td>...</td>\n",
       "      <td>...</td>\n",
       "      <td>...</td>\n",
       "      <td>...</td>\n",
       "      <td>...</td>\n",
       "      <td>...</td>\n",
       "      <td>...</td>\n",
       "      <td>...</td>\n",
       "      <td>...</td>\n",
       "      <td>...</td>\n",
       "      <td>...</td>\n",
       "      <td>...</td>\n",
       "      <td>...</td>\n",
       "      <td>...</td>\n",
       "      <td>...</td>\n",
       "      <td>...</td>\n",
       "    </tr>\n",
       "    <tr>\n",
       "      <th>140850</th>\n",
       "      <td>2020-08-30</td>\n",
       "      <td>335618</td>\n",
       "      <td>LATTA ROAD NURSING HOME EAST</td>\n",
       "      <td>2102 LATTA ROAD</td>\n",
       "      <td>ROCHESTER</td>\n",
       "      <td>NY</td>\n",
       "      <td>14612</td>\n",
       "      <td>Y</td>\n",
       "      <td>Monroe</td>\n",
       "      <td>{'type': 'Point', 'coordinates': [-77.669413, ...</td>\n",
       "      <td>...</td>\n",
       "      <td>Y</td>\n",
       "      <td>N</td>\n",
       "      <td>N</td>\n",
       "      <td>N</td>\n",
       "      <td>Y</td>\n",
       "      <td>N</td>\n",
       "      <td>NaN</td>\n",
       "      <td>NaN</td>\n",
       "      <td>NaN</td>\n",
       "      <td>NaN</td>\n",
       "    </tr>\n",
       "    <tr>\n",
       "      <th>140852</th>\n",
       "      <td>2020-08-30</td>\n",
       "      <td>335771</td>\n",
       "      <td>THROGS NECK REHABILITATION &amp; NURSING CENTER</td>\n",
       "      <td>707 THROGS NECK EXPRESSWAY</td>\n",
       "      <td>BRONX</td>\n",
       "      <td>NY</td>\n",
       "      <td>10465</td>\n",
       "      <td>Y</td>\n",
       "      <td>Bronx</td>\n",
       "      <td>{'type': 'Point', 'coordinates': [-73.818794, ...</td>\n",
       "      <td>...</td>\n",
       "      <td>Y</td>\n",
       "      <td>Y</td>\n",
       "      <td>N</td>\n",
       "      <td>Y</td>\n",
       "      <td>N</td>\n",
       "      <td>N</td>\n",
       "      <td>NaN</td>\n",
       "      <td>NaN</td>\n",
       "      <td>NaN</td>\n",
       "      <td>NaN</td>\n",
       "    </tr>\n",
       "    <tr>\n",
       "      <th>128858</th>\n",
       "      <td>2020-08-30</td>\n",
       "      <td>335046</td>\n",
       "      <td>NORTHERN MANOR GERIATRIC CENTER INC</td>\n",
       "      <td>199 N MIDDLETOWN ROAD</td>\n",
       "      <td>NANUET</td>\n",
       "      <td>NY</td>\n",
       "      <td>10954</td>\n",
       "      <td>Y</td>\n",
       "      <td>Rockland</td>\n",
       "      <td>{'type': 'Point', 'coordinates': [-74.010866, ...</td>\n",
       "      <td>...</td>\n",
       "      <td>Y</td>\n",
       "      <td>N</td>\n",
       "      <td>N</td>\n",
       "      <td>N</td>\n",
       "      <td>Y</td>\n",
       "      <td>N</td>\n",
       "      <td>25</td>\n",
       "      <td>0</td>\n",
       "      <td>Y</td>\n",
       "      <td>Y</td>\n",
       "    </tr>\n",
       "    <tr>\n",
       "      <th>140694</th>\n",
       "      <td>2020-08-30</td>\n",
       "      <td>335734</td>\n",
       "      <td>FRIEDWALD CENTER FOR REHAB AND NURSING, L L C</td>\n",
       "      <td>475 NEW HEMPSTEAD ROAD</td>\n",
       "      <td>NEW CITY</td>\n",
       "      <td>NY</td>\n",
       "      <td>10956</td>\n",
       "      <td>Y</td>\n",
       "      <td>Rockland</td>\n",
       "      <td>{'type': 'Point', 'coordinates': [-74.029994, ...</td>\n",
       "      <td>...</td>\n",
       "      <td>Y</td>\n",
       "      <td>N</td>\n",
       "      <td>N</td>\n",
       "      <td>N</td>\n",
       "      <td>Y</td>\n",
       "      <td>N</td>\n",
       "      <td>18</td>\n",
       "      <td>0</td>\n",
       "      <td>Y</td>\n",
       "      <td>Y</td>\n",
       "    </tr>\n",
       "    <tr>\n",
       "      <th>143662</th>\n",
       "      <td>2020-08-30</td>\n",
       "      <td>335644</td>\n",
       "      <td>KINGS HARBOR MULTICARE CENTER</td>\n",
       "      <td>2000 E GUNHILL ROAD</td>\n",
       "      <td>BRONX</td>\n",
       "      <td>NY</td>\n",
       "      <td>10469</td>\n",
       "      <td>Y</td>\n",
       "      <td>Bronx</td>\n",
       "      <td>{'type': 'Point', 'coordinates': [-73.829593, ...</td>\n",
       "      <td>...</td>\n",
       "      <td>Y</td>\n",
       "      <td>N</td>\n",
       "      <td>N</td>\n",
       "      <td>N</td>\n",
       "      <td>Y</td>\n",
       "      <td>N</td>\n",
       "      <td>NaN</td>\n",
       "      <td>NaN</td>\n",
       "      <td>NaN</td>\n",
       "      <td>NaN</td>\n",
       "    </tr>\n",
       "  </tbody>\n",
       "</table>\n",
       "<p>9255 rows × 92 columns</p>\n",
       "</div>"
      ],
      "text/plain": [
       "       week_ending federal_provider_number  \\\n",
       "137519  2020-05-24                  335677   \n",
       "125278  2020-05-24                  335098   \n",
       "122965  2020-05-24                  335080   \n",
       "134809  2020-05-24                  335820   \n",
       "142302  2020-05-24                  335844   \n",
       "...            ...                     ...   \n",
       "140850  2020-08-30                  335618   \n",
       "140852  2020-08-30                  335771   \n",
       "128858  2020-08-30                  335046   \n",
       "140694  2020-08-30                  335734   \n",
       "143662  2020-08-30                  335644   \n",
       "\n",
       "                                           provider_name  \\\n",
       "137519        SHEEPSHEAD NURSING & REHABILITATION CENTER   \n",
       "125278                               FINGER LAKES HEALTH   \n",
       "122965                      REGENCY EXTENDED CARE CENTER   \n",
       "134809  REGAL HEIGHTS REHABILITATION AND HEALTH CARE CTR   \n",
       "142302                                        THE KNOLLS   \n",
       "...                                                  ...   \n",
       "140850                      LATTA ROAD NURSING HOME EAST   \n",
       "140852       THROGS NECK REHABILITATION & NURSING CENTER   \n",
       "128858               NORTHERN MANOR GERIATRIC CENTER INC   \n",
       "140694     FRIEDWALD CENTER FOR REHAB AND NURSING, L L C   \n",
       "143662                     KINGS HARBOR MULTICARE CENTER   \n",
       "\n",
       "                  provider_address    provider_city provider_state  \\\n",
       "137519               2840 KNAPP ST         BROOKLYN             NY   \n",
       "125278        196-198 NORTH STREET           GENEVA             NY   \n",
       "122965         65 ASHBURTON AVENUE          YONKERS             NY   \n",
       "134809             70-05 35 AVENUE  JACKSON HEIGHTS             NY   \n",
       "142302           55 GRASSLAND ROAD         VALHALLA             NY   \n",
       "...                            ...              ...            ...   \n",
       "140850             2102 LATTA ROAD        ROCHESTER             NY   \n",
       "140852  707 THROGS NECK EXPRESSWAY            BRONX             NY   \n",
       "128858       199 N MIDDLETOWN ROAD           NANUET             NY   \n",
       "140694      475 NEW HEMPSTEAD ROAD         NEW CITY             NY   \n",
       "143662         2000 E GUNHILL ROAD            BRONX             NY   \n",
       "\n",
       "       provider_zip_code submitted_data       county  \\\n",
       "137519             11235              Y        Kings   \n",
       "125278             14456              Y      Ontario   \n",
       "122965             10701              Y  Westchester   \n",
       "134809             11372              Y       Queens   \n",
       "142302             10595              Y  Westchester   \n",
       "...                  ...            ...          ...   \n",
       "140850             14612              Y       Monroe   \n",
       "140852             10465              Y        Bronx   \n",
       "128858             10954              Y     Rockland   \n",
       "140694             10956              Y     Rockland   \n",
       "143662             10469              Y        Bronx   \n",
       "\n",
       "                                              geolocation  ...  \\\n",
       "137519  {'type': 'Point', 'coordinates': [-73.931321, ...  ...   \n",
       "125278  {'type': 'Point', 'coordinates': [-76.987954, ...  ...   \n",
       "122965  {'type': 'Point', 'coordinates': [-73.894891, ...  ...   \n",
       "134809  {'type': 'Point', 'coordinates': [-73.895441, ...  ...   \n",
       "142302  {'type': 'Point', 'coordinates': [-73.816524, ...  ...   \n",
       "...                                                   ...  ...   \n",
       "140850  {'type': 'Point', 'coordinates': [-77.669413, ...  ...   \n",
       "140852  {'type': 'Point', 'coordinates': [-73.818794, ...  ...   \n",
       "128858  {'type': 'Point', 'coordinates': [-74.010866, ...  ...   \n",
       "140694  {'type': 'Point', 'coordinates': [-74.029994, ...  ...   \n",
       "143662  {'type': 'Point', 'coordinates': [-73.829593, ...  ...   \n",
       "\n",
       "       has_facility_performed_staff_and_or_personnel_tests_since_last_report  \\\n",
       "137519                                                NaN                      \n",
       "125278                                                NaN                      \n",
       "122965                                                NaN                      \n",
       "134809                                                NaN                      \n",
       "142302                                                NaN                      \n",
       "...                                                   ...                      \n",
       "140850                                                  Y                      \n",
       "140852                                                  Y                      \n",
       "128858                                                  Y                      \n",
       "140694                                                  Y                      \n",
       "143662                                                  Y                      \n",
       "\n",
       "       tested_staff_and_or_personnel_with_new_signs_or_symptoms  \\\n",
       "137519                                                NaN         \n",
       "125278                                                NaN         \n",
       "122965                                                NaN         \n",
       "134809                                                NaN         \n",
       "142302                                                NaN         \n",
       "...                                                   ...         \n",
       "140850                                                  N         \n",
       "140852                                                  Y         \n",
       "128858                                                  N         \n",
       "140694                                                  N         \n",
       "143662                                                  N         \n",
       "\n",
       "       tested_asymptomatic_staff_and_or_personnel_in_a_unit_or_section_after_a_new_case  \\\n",
       "137519                                                NaN                                 \n",
       "125278                                                NaN                                 \n",
       "122965                                                NaN                                 \n",
       "134809                                                NaN                                 \n",
       "142302                                                NaN                                 \n",
       "...                                                   ...                                 \n",
       "140850                                                  N                                 \n",
       "140852                                                  N                                 \n",
       "128858                                                  N                                 \n",
       "140694                                                  N                                 \n",
       "143662                                                  N                                 \n",
       "\n",
       "       tested_asymptomatic_staff_and_or_personnel_facility_wide_after_a_new_case  \\\n",
       "137519                                                NaN                          \n",
       "125278                                                NaN                          \n",
       "122965                                                NaN                          \n",
       "134809                                                NaN                          \n",
       "142302                                                NaN                          \n",
       "...                                                   ...                          \n",
       "140850                                                  N                          \n",
       "140852                                                  Y                          \n",
       "128858                                                  N                          \n",
       "140694                                                  N                          \n",
       "143662                                                  N                          \n",
       "\n",
       "       tested_asymptomatic_staff_and_or_personnel_without_known_exposure_as_surveillance  \\\n",
       "137519                                                NaN                                  \n",
       "125278                                                NaN                                  \n",
       "122965                                                NaN                                  \n",
       "134809                                                NaN                                  \n",
       "142302                                                NaN                                  \n",
       "...                                                   ...                                  \n",
       "140850                                                  Y                                  \n",
       "140852                                                  N                                  \n",
       "128858                                                  Y                                  \n",
       "140694                                                  Y                                  \n",
       "143662                                                  Y                                  \n",
       "\n",
       "       tested_another_subgroup_of_staff_and_or_personnel  \\\n",
       "137519                                               NaN   \n",
       "125278                                               NaN   \n",
       "122965                                               NaN   \n",
       "134809                                               NaN   \n",
       "142302                                               NaN   \n",
       "...                                                  ...   \n",
       "140850                                                 N   \n",
       "140852                                                 N   \n",
       "128858                                                 N   \n",
       "140694                                                 N   \n",
       "143662                                                 N   \n",
       "\n",
       "       number_of_ventilators_in number_of_ventilators_in_1  \\\n",
       "137519                      NaN                        NaN   \n",
       "125278                      NaN                        NaN   \n",
       "122965                       10                          0   \n",
       "134809                      NaN                        NaN   \n",
       "142302                      NaN                        NaN   \n",
       "...                         ...                        ...   \n",
       "140850                      NaN                        NaN   \n",
       "140852                      NaN                        NaN   \n",
       "128858                       25                          0   \n",
       "140694                       18                          0   \n",
       "143662                      NaN                        NaN   \n",
       "\n",
       "       any_current_supply_of one_week_supply_of_ventilator  \n",
       "137519                   NaN                           NaN  \n",
       "125278                   NaN                           NaN  \n",
       "122965                     Y                             Y  \n",
       "134809                   NaN                           NaN  \n",
       "142302                   NaN                           NaN  \n",
       "...                      ...                           ...  \n",
       "140850                   NaN                           NaN  \n",
       "140852                   NaN                           NaN  \n",
       "128858                     Y                             Y  \n",
       "140694                     Y                             Y  \n",
       "143662                   NaN                           NaN  \n",
       "\n",
       "[9255 rows x 92 columns]"
      ]
     },
     "execution_count": 98,
     "metadata": {},
     "output_type": "execute_result"
    }
   ],
   "source": [
    "# Convert week_ending's data type to datime\n",
    "df[\"week_ending\"] = df[\"week_ending\"].astype(\"datetime64\")\n",
    "# Sort the data by time\n",
    "df.sort_values(by = \"week_ending\")"
   ]
  },
  {
   "cell_type": "markdown",
   "metadata": {},
   "source": [
    "# 1. Problems with Critical Supplies"
   ]
  },
  {
   "cell_type": "markdown",
   "metadata": {},
   "source": [
    "## a. Ventilators\n",
    "### I. How many nursing homes in the state of NY are equipped with ventilators?"
   ]
  },
  {
   "cell_type": "code",
   "execution_count": 114,
   "metadata": {},
   "outputs": [
    {
     "data": {
      "text/plain": [
       "<AxesSubplot:title={'center':'Number of Nursing Homes equipped with Ventilators in the state of NY'}, xlabel='Week Ending', ylabel='Number of Nursing Homes'>"
      ]
     },
     "execution_count": 114,
     "metadata": {},
     "output_type": "execute_result"
    },
    {
     "data": {
      "image/png": "[encoded data removed]",
      "text/plain": [
       "<Figure size 432x288 with 1 Axes>"
      ]
     },
     "metadata": {
      "needs_background": "light"
     },
     "output_type": "display_data"
    }
   ],
   "source": [
    "# Pin down the nursing homes with Ventilators\n",
    "mask1 = df[\"ventilator_dependent_unit\"] == \"Y\"\n",
    "# How the number of nursing homes equiped with Ventilators changed in the past few months (in the state of NY)\n",
    "nursinghome_with_ventilator = df[mask1].pivot_table(values = \"ventilator_dependent_unit\", index = \"week_ending\", aggfunc = \"count\")\n",
    "# Plot the graph\n",
    "nursinghome_with_ventilator.plot(title = \"Number of Nursing Homes equipped with Ventilators in the state of NY\", xlabel = \"Week Ending\", ylabel = \"Number of Nursing Homes\")"
   ]
  },
  {
   "cell_type": "markdown",
   "metadata": {},
   "source": [
    "### II. How many ventilators are there? How many per 1000 patient?"
   ]
  },
  {
   "cell_type": "code",
   "execution_count": 112,
   "metadata": {},
   "outputs": [
    {
     "name": "stderr",
     "output_type": "stream",
     "text": [
      "<ipython-input-112-73f18dfd68d7>:2: SettingWithCopyWarning: \n",
      "A value is trying to be set on a copy of a slice from a DataFrame.\n",
      "Try using .loc[row_indexer,col_indexer] = value instead\n",
      "\n",
      "See the caveats in the documentation: https://pandas.pydata.org/pandas-docs/stable/user_guide/indexing.html#returning-a-view-versus-a-copy\n",
      "  df[\"number_of_ventilators_in\"] = df[\"number_of_ventilators_in\"].fillna(0).astype(float)\n"
     ]
    },
    {
     "data": {
      "text/plain": [
       "<AxesSubplot:title={'center':'Total Number of Ventilators in the state of NY'}, xlabel='Week Ending', ylabel='Number of Ventilators'>"
      ]
     },
     "execution_count": 112,
     "metadata": {},
     "output_type": "execute_result"
    },
    {
     "data": {
      "image/png": "[encoded data removed]",
      "text/plain": [
       "<Figure size 432x288 with 1 Axes>"
      ]
     },
     "metadata": {
      "needs_background": "light"
     },
     "output_type": "display_data"
    }
   ],
   "source": [
    "# Find out how the total number of Ventilators in the state of NY has changed \n",
    "df[\"number_of_ventilators_in\"] = df[\"number_of_ventilators_in\"].fillna(0).astype(float)\n",
    "# Construct the Pivot table\n",
    "ventilator_number = df.pivot_table(values = \"number_of_ventilators_in\", index = \"week_ending\", aggfunc = \"sum\")\n",
    "# Plot the graph\n",
    "ventilator_number.plot(title = \"Total Number of Ventilators in the state of NY\", xlabel = \"Week Ending\", ylabel = \"Number of Ventilators\")"
   ]
  },
  {
   "cell_type": "markdown",
   "metadata": {},
   "source": [
    "### III. Is there enough follow-up supplies?"
   ]
  },
  {
   "cell_type": "code",
   "execution_count": 107,
   "metadata": {
    "scrolled": false
   },
   "outputs": [
    {
     "data": {
      "text/plain": [
       "<AxesSubplot:xlabel='week_ending'>"
      ]
     },
     "execution_count": 107,
     "metadata": {},
     "output_type": "execute_result"
    },
    {
     "data": {
      "image/png": "[encoded data removed]",
      "text/plain": [
       "<Figure size 432x288 with 1 Axes>"
      ]
     },
     "metadata": {
      "needs_background": "light"
     },
     "output_type": "display_data"
    }
   ],
   "source": [
    "mask2 = df[\"one_week_supply_of_ventilator\"] == \"Y\"\n",
    "df[mask2].pivot_table(values = \"one_week_supply_of_ventilator\", index = \"week_ending\", aggfunc = \"count\").plot()"
   ]
  },
  {
   "cell_type": "markdown",
   "metadata": {},
   "source": [
    "## b. PPEs (N95 masks, Surgical masks, Eye protection, Gowns, Gloves, Hand sanitizer)"
   ]
  },
  {
   "cell_type": "code",
   "execution_count": null,
   "metadata": {},
   "outputs": [],
   "source": []
  },
  {
   "cell_type": "code",
   "execution_count": null,
   "metadata": {},
   "outputs": [],
   "source": []
  },
  {
   "cell_type": "code",
   "execution_count": null,
   "metadata": {},
   "outputs": [],
   "source": []
  },
  {
   "cell_type": "markdown",
   "metadata": {},
   "source": [
    "# 2. Problem with Staff Infection"
   ]
  },
  {
   "cell_type": "code",
   "execution_count": null,
   "metadata": {},
   "outputs": [],
   "source": []
  },
  {
   "cell_type": "code",
   "execution_count": null,
   "metadata": {},
   "outputs": [],
   "source": []
  },
  {
   "cell_type": "code",
   "execution_count": null,
   "metadata": {},
   "outputs": [],
   "source": []
  },
  {
   "cell_type": "code",
   "execution_count": null,
   "metadata": {},
   "outputs": [],
   "source": []
  },
  {
   "cell_type": "code",
   "execution_count": null,
   "metadata": {},
   "outputs": [],
   "source": []
  },
  {
   "cell_type": "code",
   "execution_count": null,
   "metadata": {},
   "outputs": [],
   "source": []
  },
  {
   "cell_type": "code",
   "execution_count": null,
   "metadata": {},
   "outputs": [],
   "source": []
  },
  {
   "cell_type": "code",
   "execution_count": null,
   "metadata": {},
   "outputs": [],
   "source": []
  }
 ],
 "metadata": {
  "kernelspec": {
   "display_name": "Python 3",
   "language": "python",
   "name": "python3"
  },
  "language_info": {
   "codemirror_mode": {
    "name": "ipython",
    "version": 3
   },
   "file_extension": ".py",
   "mimetype": "text/x-python",
   "name": "python",
   "nbconvert_exporter": "python",
   "pygments_lexer": "ipython3",
   "version": "3.8.5"
  }
 },
 "nbformat": 4,
 "nbformat_minor": 4
}
